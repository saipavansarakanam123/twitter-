{
  "nbformat": 4,
  "nbformat_minor": 0,
  "metadata": {
    "colab": {
      "name": "twitter txt sumer.ipynb",
      "provenance": [],
      "toc_visible": true,
      "mount_file_id": "1_DhbAXaZuGs4iyj_yDjQgG_e0pB_4Q88",
      "authorship_tag": "ABX9TyOzQ4uJq7SRXBKgMSJl/F20",
      "include_colab_link": true
    },
    "kernelspec": {
      "name": "python3",
      "display_name": "Python 3"
    },
    "language_info": {
      "name": "python"
    }
  },
  "cells": [
    {
      "cell_type": "markdown",
      "metadata": {
        "id": "view-in-github",
        "colab_type": "text"
      },
      "source": [
        "<a href=\"https://colab.research.google.com/github/saipavansarakanam123/twitter-/blob/main/twitter_txt_sumer.ipynb\" target=\"_parent\"><img src=\"https://colab.research.google.com/assets/colab-badge.svg\" alt=\"Open In Colab\"/></a>"
      ]
    },
    {
      "cell_type": "code",
      "metadata": {
        "id": "3-KCTXcXWgeA"
      },
      "source": [
        "import pandas as pd\n"
      ],
      "execution_count": null,
      "outputs": []
    },
    {
      "cell_type": "code",
      "metadata": {
        "colab": {
          "base_uri": "https://localhost:8080/",
          "height": 423
        },
        "id": "0R2nufdpXBcs",
        "outputId": "9f504c2e-c2d5-4d09-a367-7fa651771823"
      },
      "source": [
        "df = pd.read_csv('/content/drive/MyDrive/Classroom/int246 project/newdatafile.csv')\n",
        "df"
      ],
      "execution_count": null,
      "outputs": [
        {
          "output_type": "execute_result",
          "data": {
            "text/html": [
              "<div>\n",
              "<style scoped>\n",
              "    .dataframe tbody tr th:only-of-type {\n",
              "        vertical-align: middle;\n",
              "    }\n",
              "\n",
              "    .dataframe tbody tr th {\n",
              "        vertical-align: top;\n",
              "    }\n",
              "\n",
              "    .dataframe thead th {\n",
              "        text-align: right;\n",
              "    }\n",
              "</style>\n",
              "<table border=\"1\" class=\"dataframe\">\n",
              "  <thead>\n",
              "    <tr style=\"text-align: right;\">\n",
              "      <th></th>\n",
              "      <th>Sl no</th>\n",
              "      <th>Tweets</th>\n",
              "      <th>Search key</th>\n",
              "      <th>Feeling</th>\n",
              "    </tr>\n",
              "  </thead>\n",
              "  <tbody>\n",
              "    <tr>\n",
              "      <th>0</th>\n",
              "      <td>1</td>\n",
              "      <td>#1: @fe ed \"RT @MirayaDizon1: Time is ticking...</td>\n",
              "      <td>happy moments</td>\n",
              "      <td>happy</td>\n",
              "    </tr>\n",
              "    <tr>\n",
              "      <th>1</th>\n",
              "      <td>2</td>\n",
              "      <td>#2: @蓮花 &amp;はすか ed \"RT @ninjaryugo: ＃コナモンの日 だそうで...</td>\n",
              "      <td>happy moments</td>\n",
              "      <td>happy</td>\n",
              "    </tr>\n",
              "    <tr>\n",
              "      <th>2</th>\n",
              "      <td>3</td>\n",
              "      <td>#3: @Ris ♡ ed \"Happy birthday to one smokin h...</td>\n",
              "      <td>happy moments</td>\n",
              "      <td>happy</td>\n",
              "    </tr>\n",
              "    <tr>\n",
              "      <th>3</th>\n",
              "      <td>4</td>\n",
              "      <td>#4: @월월 [씍쯴사랑로봇] jwinnie is the best, cheer u...</td>\n",
              "      <td>happy moments</td>\n",
              "      <td>happy</td>\n",
              "    </tr>\n",
              "    <tr>\n",
              "      <th>4</th>\n",
              "      <td>5</td>\n",
              "      <td>#5: @Madhurima wth u vc♥ ed \"Good morning dea...</td>\n",
              "      <td>happy moments</td>\n",
              "      <td>happy</td>\n",
              "    </tr>\n",
              "    <tr>\n",
              "      <th>...</th>\n",
              "      <td>...</td>\n",
              "      <td>...</td>\n",
              "      <td>...</td>\n",
              "      <td>...</td>\n",
              "    </tr>\n",
              "    <tr>\n",
              "      <th>10012</th>\n",
              "      <td>10016</td>\n",
              "      <td>Tweet #85: @Matteo tweeted \"@GameSpot @Frannkc...</td>\n",
              "      <td>irritating</td>\n",
              "      <td>angry</td>\n",
              "    </tr>\n",
              "    <tr>\n",
              "      <th>10013</th>\n",
              "      <td>10017</td>\n",
              "      <td>Tweet #86: @𝐚𝐧𝐢𝐬𝐭𝐨𝐧 tweeted \"@BRATgiirl_ that’...</td>\n",
              "      <td>irritating</td>\n",
              "      <td>angry</td>\n",
              "    </tr>\n",
              "    <tr>\n",
              "      <th>10014</th>\n",
              "      <td>10018</td>\n",
              "      <td>Tweet #87: @Chowkidar Ricky Sharma tweeted \"@M...</td>\n",
              "      <td>irritating</td>\n",
              "      <td>angry</td>\n",
              "    </tr>\n",
              "    <tr>\n",
              "      <th>10015</th>\n",
              "      <td>10019</td>\n",
              "      <td>Tweet #88: @Katoe.EXE tweeted \"u know what i h...</td>\n",
              "      <td>irritating</td>\n",
              "      <td>angry</td>\n",
              "    </tr>\n",
              "    <tr>\n",
              "      <th>10016</th>\n",
              "      <td>10019</td>\n",
              "      <td>Tweet #88: @Katoe.EXE tweeted \"u know what i h...</td>\n",
              "      <td>irritating</td>\n",
              "      <td>angry</td>\n",
              "    </tr>\n",
              "  </tbody>\n",
              "</table>\n",
              "<p>10017 rows × 4 columns</p>\n",
              "</div>"
            ],
            "text/plain": [
              "       Sl no  ... Feeling\n",
              "0          1  ...   happy\n",
              "1          2  ...   happy\n",
              "2          3  ...   happy\n",
              "3          4  ...   happy\n",
              "4          5  ...   happy\n",
              "...      ...  ...     ...\n",
              "10012  10016  ...   angry\n",
              "10013  10017  ...   angry\n",
              "10014  10018  ...   angry\n",
              "10015  10019  ...   angry\n",
              "10016  10019  ...   angry\n",
              "\n",
              "[10017 rows x 4 columns]"
            ]
          },
          "metadata": {},
          "execution_count": 4
        }
      ]
    },
    {
      "cell_type": "code",
      "metadata": {
        "colab": {
          "base_uri": "https://localhost:8080/"
        },
        "id": "HdIygyCfXPix",
        "outputId": "6724317f-8a70-4bd3-c437-0848ecb21db8"
      },
      "source": [
        "df.info()"
      ],
      "execution_count": null,
      "outputs": [
        {
          "output_type": "stream",
          "name": "stdout",
          "text": [
            "<class 'pandas.core.frame.DataFrame'>\n",
            "RangeIndex: 10017 entries, 0 to 10016\n",
            "Data columns (total 4 columns):\n",
            " #   Column      Non-Null Count  Dtype \n",
            "---  ------      --------------  ----- \n",
            " 0   Sl no       10017 non-null  int64 \n",
            " 1   Tweets      10017 non-null  object\n",
            " 2   Search key  10017 non-null  object\n",
            " 3   Feeling     10017 non-null  object\n",
            "dtypes: int64(1), object(3)\n",
            "memory usage: 313.2+ KB\n"
          ]
        }
      ]
    },
    {
      "cell_type": "code",
      "metadata": {
        "colab": {
          "base_uri": "https://localhost:8080/",
          "height": 423
        },
        "id": "Cjr1HmXKXQM5",
        "outputId": "0eeb7e09-4689-4d56-950b-ec77a1aab364"
      },
      "source": [
        "df.drop(columns = ['Search key'],inplace = True)\n",
        "df"
      ],
      "execution_count": null,
      "outputs": [
        {
          "output_type": "execute_result",
          "data": {
            "text/html": [
              "<div>\n",
              "<style scoped>\n",
              "    .dataframe tbody tr th:only-of-type {\n",
              "        vertical-align: middle;\n",
              "    }\n",
              "\n",
              "    .dataframe tbody tr th {\n",
              "        vertical-align: top;\n",
              "    }\n",
              "\n",
              "    .dataframe thead th {\n",
              "        text-align: right;\n",
              "    }\n",
              "</style>\n",
              "<table border=\"1\" class=\"dataframe\">\n",
              "  <thead>\n",
              "    <tr style=\"text-align: right;\">\n",
              "      <th></th>\n",
              "      <th>Sl no</th>\n",
              "      <th>Tweets</th>\n",
              "      <th>Feeling</th>\n",
              "    </tr>\n",
              "  </thead>\n",
              "  <tbody>\n",
              "    <tr>\n",
              "      <th>0</th>\n",
              "      <td>1</td>\n",
              "      <td>#1: @fe ed \"RT @MirayaDizon1: Time is ticking...</td>\n",
              "      <td>happy</td>\n",
              "    </tr>\n",
              "    <tr>\n",
              "      <th>1</th>\n",
              "      <td>2</td>\n",
              "      <td>#2: @蓮花 &amp;はすか ed \"RT @ninjaryugo: ＃コナモンの日 だそうで...</td>\n",
              "      <td>happy</td>\n",
              "    </tr>\n",
              "    <tr>\n",
              "      <th>2</th>\n",
              "      <td>3</td>\n",
              "      <td>#3: @Ris ♡ ed \"Happy birthday to one smokin h...</td>\n",
              "      <td>happy</td>\n",
              "    </tr>\n",
              "    <tr>\n",
              "      <th>3</th>\n",
              "      <td>4</td>\n",
              "      <td>#4: @월월 [씍쯴사랑로봇] jwinnie is the best, cheer u...</td>\n",
              "      <td>happy</td>\n",
              "    </tr>\n",
              "    <tr>\n",
              "      <th>4</th>\n",
              "      <td>5</td>\n",
              "      <td>#5: @Madhurima wth u vc♥ ed \"Good morning dea...</td>\n",
              "      <td>happy</td>\n",
              "    </tr>\n",
              "    <tr>\n",
              "      <th>...</th>\n",
              "      <td>...</td>\n",
              "      <td>...</td>\n",
              "      <td>...</td>\n",
              "    </tr>\n",
              "    <tr>\n",
              "      <th>10012</th>\n",
              "      <td>10016</td>\n",
              "      <td>Tweet #85: @Matteo tweeted \"@GameSpot @Frannkc...</td>\n",
              "      <td>angry</td>\n",
              "    </tr>\n",
              "    <tr>\n",
              "      <th>10013</th>\n",
              "      <td>10017</td>\n",
              "      <td>Tweet #86: @𝐚𝐧𝐢𝐬𝐭𝐨𝐧 tweeted \"@BRATgiirl_ that’...</td>\n",
              "      <td>angry</td>\n",
              "    </tr>\n",
              "    <tr>\n",
              "      <th>10014</th>\n",
              "      <td>10018</td>\n",
              "      <td>Tweet #87: @Chowkidar Ricky Sharma tweeted \"@M...</td>\n",
              "      <td>angry</td>\n",
              "    </tr>\n",
              "    <tr>\n",
              "      <th>10015</th>\n",
              "      <td>10019</td>\n",
              "      <td>Tweet #88: @Katoe.EXE tweeted \"u know what i h...</td>\n",
              "      <td>angry</td>\n",
              "    </tr>\n",
              "    <tr>\n",
              "      <th>10016</th>\n",
              "      <td>10019</td>\n",
              "      <td>Tweet #88: @Katoe.EXE tweeted \"u know what i h...</td>\n",
              "      <td>angry</td>\n",
              "    </tr>\n",
              "  </tbody>\n",
              "</table>\n",
              "<p>10017 rows × 3 columns</p>\n",
              "</div>"
            ],
            "text/plain": [
              "       Sl no                                             Tweets Feeling\n",
              "0          1   #1: @fe ed \"RT @MirayaDizon1: Time is ticking...   happy\n",
              "1          2   #2: @蓮花 &はすか ed \"RT @ninjaryugo: ＃コナモンの日 だそうで...   happy\n",
              "2          3   #3: @Ris ♡ ed \"Happy birthday to one smokin h...   happy\n",
              "3          4   #4: @월월 [씍쯴사랑로봇] jwinnie is the best, cheer u...   happy\n",
              "4          5   #5: @Madhurima wth u vc♥ ed \"Good morning dea...   happy\n",
              "...      ...                                                ...     ...\n",
              "10012  10016  Tweet #85: @Matteo tweeted \"@GameSpot @Frannkc...   angry\n",
              "10013  10017  Tweet #86: @𝐚𝐧𝐢𝐬𝐭𝐨𝐧 tweeted \"@BRATgiirl_ that’...   angry\n",
              "10014  10018  Tweet #87: @Chowkidar Ricky Sharma tweeted \"@M...   angry\n",
              "10015  10019  Tweet #88: @Katoe.EXE tweeted \"u know what i h...   angry\n",
              "10016  10019  Tweet #88: @Katoe.EXE tweeted \"u know what i h...   angry\n",
              "\n",
              "[10017 rows x 3 columns]"
            ]
          },
          "metadata": {},
          "execution_count": 6
        }
      ]
    },
    {
      "cell_type": "code",
      "metadata": {
        "id": "qB2hRf-QXRSX"
      },
      "source": [
        "new_df = df.to_csv('newdtfile.csv',index=False)\n",
        "new_df"
      ],
      "execution_count": null,
      "outputs": []
    },
    {
      "cell_type": "code",
      "metadata": {
        "colab": {
          "base_uri": "https://localhost:8080/",
          "height": 423
        },
        "id": "qUxz0ZXMXR4l",
        "outputId": "49b52fb0-7c05-46bf-f2e0-97c4960a3256"
      },
      "source": [
        "import pandas as pd\n",
        "df = pd.read_csv('/content/drive/MyDrive/Classroom/int246 project/newdtfile.csv')\n",
        "df"
      ],
      "execution_count": null,
      "outputs": [
        {
          "output_type": "execute_result",
          "data": {
            "text/html": [
              "<div>\n",
              "<style scoped>\n",
              "    .dataframe tbody tr th:only-of-type {\n",
              "        vertical-align: middle;\n",
              "    }\n",
              "\n",
              "    .dataframe tbody tr th {\n",
              "        vertical-align: top;\n",
              "    }\n",
              "\n",
              "    .dataframe thead th {\n",
              "        text-align: right;\n",
              "    }\n",
              "</style>\n",
              "<table border=\"1\" class=\"dataframe\">\n",
              "  <thead>\n",
              "    <tr style=\"text-align: right;\">\n",
              "      <th></th>\n",
              "      <th>Sl no</th>\n",
              "      <th>Tweets</th>\n",
              "      <th>Feeling</th>\n",
              "    </tr>\n",
              "  </thead>\n",
              "  <tbody>\n",
              "    <tr>\n",
              "      <th>0</th>\n",
              "      <td>1</td>\n",
              "      <td>#1: @fe ed \"RT @MirayaDizon1: Time is ticking...</td>\n",
              "      <td>happy</td>\n",
              "    </tr>\n",
              "    <tr>\n",
              "      <th>1</th>\n",
              "      <td>2</td>\n",
              "      <td>#2: @蓮花 &amp;はすか ed \"RT @ninjaryugo: ＃コナモンの日 だそうで...</td>\n",
              "      <td>happy</td>\n",
              "    </tr>\n",
              "    <tr>\n",
              "      <th>2</th>\n",
              "      <td>3</td>\n",
              "      <td>#3: @Ris ♡ ed \"Happy birthday to one smokin h...</td>\n",
              "      <td>happy</td>\n",
              "    </tr>\n",
              "    <tr>\n",
              "      <th>3</th>\n",
              "      <td>4</td>\n",
              "      <td>#4: @월월 [씍쯴사랑로봇] jwinnie is the best, cheer u...</td>\n",
              "      <td>happy</td>\n",
              "    </tr>\n",
              "    <tr>\n",
              "      <th>4</th>\n",
              "      <td>5</td>\n",
              "      <td>#5: @Madhurima wth u vc♥ ed \"Good morning dea...</td>\n",
              "      <td>happy</td>\n",
              "    </tr>\n",
              "    <tr>\n",
              "      <th>...</th>\n",
              "      <td>...</td>\n",
              "      <td>...</td>\n",
              "      <td>...</td>\n",
              "    </tr>\n",
              "    <tr>\n",
              "      <th>10012</th>\n",
              "      <td>10016</td>\n",
              "      <td>Tweet #85: @Matteo tweeted \"@GameSpot @Frannkc...</td>\n",
              "      <td>angry</td>\n",
              "    </tr>\n",
              "    <tr>\n",
              "      <th>10013</th>\n",
              "      <td>10017</td>\n",
              "      <td>Tweet #86: @𝐚𝐧𝐢𝐬𝐭𝐨𝐧 tweeted \"@BRATgiirl_ that’...</td>\n",
              "      <td>angry</td>\n",
              "    </tr>\n",
              "    <tr>\n",
              "      <th>10014</th>\n",
              "      <td>10018</td>\n",
              "      <td>Tweet #87: @Chowkidar Ricky Sharma tweeted \"@M...</td>\n",
              "      <td>angry</td>\n",
              "    </tr>\n",
              "    <tr>\n",
              "      <th>10015</th>\n",
              "      <td>10019</td>\n",
              "      <td>Tweet #88: @Katoe.EXE tweeted \"u know what i h...</td>\n",
              "      <td>angry</td>\n",
              "    </tr>\n",
              "    <tr>\n",
              "      <th>10016</th>\n",
              "      <td>10019</td>\n",
              "      <td>Tweet #88: @Katoe.EXE tweeted \"u know what i h...</td>\n",
              "      <td>angry</td>\n",
              "    </tr>\n",
              "  </tbody>\n",
              "</table>\n",
              "<p>10017 rows × 3 columns</p>\n",
              "</div>"
            ],
            "text/plain": [
              "       Sl no                                             Tweets Feeling\n",
              "0          1   #1: @fe ed \"RT @MirayaDizon1: Time is ticking...   happy\n",
              "1          2   #2: @蓮花 &はすか ed \"RT @ninjaryugo: ＃コナモンの日 だそうで...   happy\n",
              "2          3   #3: @Ris ♡ ed \"Happy birthday to one smokin h...   happy\n",
              "3          4   #4: @월월 [씍쯴사랑로봇] jwinnie is the best, cheer u...   happy\n",
              "4          5   #5: @Madhurima wth u vc♥ ed \"Good morning dea...   happy\n",
              "...      ...                                                ...     ...\n",
              "10012  10016  Tweet #85: @Matteo tweeted \"@GameSpot @Frannkc...   angry\n",
              "10013  10017  Tweet #86: @𝐚𝐧𝐢𝐬𝐭𝐨𝐧 tweeted \"@BRATgiirl_ that’...   angry\n",
              "10014  10018  Tweet #87: @Chowkidar Ricky Sharma tweeted \"@M...   angry\n",
              "10015  10019  Tweet #88: @Katoe.EXE tweeted \"u know what i h...   angry\n",
              "10016  10019  Tweet #88: @Katoe.EXE tweeted \"u know what i h...   angry\n",
              "\n",
              "[10017 rows x 3 columns]"
            ]
          },
          "metadata": {},
          "execution_count": 8
        }
      ]
    },
    {
      "cell_type": "code",
      "metadata": {
        "colab": {
          "base_uri": "https://localhost:8080/"
        },
        "id": "xgG_Yd83XjbC",
        "outputId": "ca05a324-6626-4be9-c8ae-99e80ef02311"
      },
      "source": [
        "import nltk\n",
        "nltk.download('stopwords')\n",
        "stopword_list = nltk.corpus.stopwords.words('english')\n",
        "stopword_list.remove('no')\n",
        "stopword_list.remove('not')\n",
        "len(stopword_list)"
      ],
      "execution_count": null,
      "outputs": [
        {
          "output_type": "stream",
          "name": "stdout",
          "text": [
            "[nltk_data] Downloading package stopwords to /root/nltk_data...\n",
            "[nltk_data]   Package stopwords is already up-to-date!\n"
          ]
        },
        {
          "output_type": "execute_result",
          "data": {
            "text/plain": [
              "177"
            ]
          },
          "metadata": {},
          "execution_count": 10
        }
      ]
    },
    {
      "cell_type": "code",
      "metadata": {
        "id": "_NkC9cE9XkVU"
      },
      "source": [
        "# Remove HTML Tag\n",
        "from bs4 import BeautifulSoup\n",
        "def html_tag(text):\n",
        "  soup = BeautifulSoup(text,\"html.parser\")\n",
        "  new_text = soup.get_text()\n",
        "  return new_text\n"
      ],
      "execution_count": null,
      "outputs": []
    },
    {
      "cell_type": "code",
      "metadata": {
        "colab": {
          "base_uri": "https://localhost:8080/"
        },
        "id": "U9o7HKrsXk58",
        "outputId": "97bb0b74-0609-40ee-9de8-8573a71f9281"
      },
      "source": [
        "# Expand Contractions\n",
        "!pip install contractions "
      ],
      "execution_count": null,
      "outputs": [
        {
          "output_type": "stream",
          "name": "stdout",
          "text": [
            "Collecting contractions\n",
            "  Downloading contractions-0.0.58-py2.py3-none-any.whl (8.0 kB)\n",
            "Collecting textsearch>=0.0.21\n",
            "  Downloading textsearch-0.0.21-py2.py3-none-any.whl (7.5 kB)\n",
            "Collecting pyahocorasick\n",
            "  Downloading pyahocorasick-1.4.2.tar.gz (321 kB)\n",
            "\u001b[K     |████████████████████████████████| 321 kB 36.6 MB/s \n",
            "\u001b[?25hCollecting anyascii\n",
            "  Downloading anyascii-0.3.0-py3-none-any.whl (284 kB)\n",
            "\u001b[K     |████████████████████████████████| 284 kB 54.0 MB/s \n",
            "\u001b[?25hBuilding wheels for collected packages: pyahocorasick\n",
            "  Building wheel for pyahocorasick (setup.py) ... \u001b[?25l\u001b[?25hdone\n",
            "  Created wheel for pyahocorasick: filename=pyahocorasick-1.4.2-cp37-cp37m-linux_x86_64.whl size=85447 sha256=e6ae1965dcc83f58b8cfa4123eae7e206f66690b817d02813f2f80f33322a4af\n",
            "  Stored in directory: /root/.cache/pip/wheels/25/19/a6/8f363d9939162782bb8439d886469756271abc01f76fbd790f\n",
            "Successfully built pyahocorasick\n",
            "Installing collected packages: pyahocorasick, anyascii, textsearch, contractions\n",
            "Successfully installed anyascii-0.3.0 contractions-0.0.58 pyahocorasick-1.4.2 textsearch-0.0.21\n"
          ]
        }
      ]
    },
    {
      "cell_type": "code",
      "metadata": {
        "colab": {
          "base_uri": "https://localhost:8080/",
          "height": 35
        },
        "id": "UZlgVvJsX3K9",
        "outputId": "25223d2d-a855-484f-c6c1-125b06873571"
      },
      "source": [
        "import contractions\n",
        "def con(text):\n",
        "  expand = contractions.fix(text)\n",
        "  return expand\n",
        "\n",
        "con(\"U all can't expand I'd think\")"
      ],
      "execution_count": null,
      "outputs": [
        {
          "output_type": "execute_result",
          "data": {
            "application/vnd.google.colaboratory.intrinsic+json": {
              "type": "string"
            },
            "text/plain": [
              "'you all cannot expand I would think'"
            ]
          },
          "metadata": {},
          "execution_count": 14
        }
      ]
    },
    {
      "cell_type": "code",
      "metadata": {
        "colab": {
          "base_uri": "https://localhost:8080/",
          "height": 35
        },
        "id": "lGR7n9GjX3sg",
        "outputId": "14b48097-ce27-4181-dbe2-ac295bfc84e1"
      },
      "source": [
        "# Removal of Special Characters\n",
        "import re\n",
        "def remove_sp(text):\n",
        "  pattern = r'[^A-Za-z0-9]'\n",
        "  text = re.sub(pattern,' ',text)\n",
        "  return text\n",
        "\n",
        "remove_sp(\"Well this was fun! What do you think? 123#\")"
      ],
      "execution_count": null,
      "outputs": [
        {
          "output_type": "execute_result",
          "data": {
            "application/vnd.google.colaboratory.intrinsic+json": {
              "type": "string"
            },
            "text/plain": [
              "'Well this was fun  What do you think  123 '"
            ]
          },
          "metadata": {},
          "execution_count": 15
        }
      ]
    },
    {
      "cell_type": "code",
      "metadata": {
        "colab": {
          "base_uri": "https://localhost:8080/",
          "height": 35
        },
        "id": "S0q31R3uX4Pi",
        "outputId": "eea79008-f876-424c-d474-e83e5a8a96cd"
      },
      "source": [
        "# Removal of Numbers\n",
        "def remove_num(text):\n",
        "  result = re.sub(r'\\d +',' ',text)\n",
        "  return result\n",
        "\n",
        "remove_num(\"There are 3 balls in this bag, and 12 in the other one.\")"
      ],
      "execution_count": null,
      "outputs": [
        {
          "output_type": "execute_result",
          "data": {
            "application/vnd.google.colaboratory.intrinsic+json": {
              "type": "string"
            },
            "text/plain": [
              "'There are  balls in this bag, and 1 in the other one.'"
            ]
          },
          "metadata": {},
          "execution_count": 16
        }
      ]
    },
    {
      "cell_type": "code",
      "metadata": {
        "colab": {
          "base_uri": "https://localhost:8080/",
          "height": 35
        },
        "id": "5mNHmkBlX5Db",
        "outputId": "27d5650d-5ce3-4102-f645-7284df086357"
      },
      "source": [
        "import inflect\n",
        "p = inflect.engine()\n",
        "  \n",
        "# convert number into words\n",
        "def convert_number(text):\n",
        "    # split string into list of words\n",
        "    temp_str = text.split()\n",
        "    # initialise empty list\n",
        "    new_string = []\n",
        "  \n",
        "    for word in temp_str:\n",
        "        # if word is a digit, convert the digit\n",
        "        # to numbers and append into the new_string list\n",
        "        if word.isdigit():\n",
        "            temp = p.number_to_words(word)\n",
        "            new_string.append(temp)\n",
        "  \n",
        "        # append the word as it is\n",
        "        else:\n",
        "            new_string.append(word)\n",
        "  \n",
        "    # join the words of new_string to form a string\n",
        "    temp_str = ' '.join(new_string)\n",
        "    return temp_str\n",
        "  \n",
        "convert_number('There are 3 balls in this bag, and 12 in the other one.')"
      ],
      "execution_count": null,
      "outputs": [
        {
          "output_type": "execute_result",
          "data": {
            "application/vnd.google.colaboratory.intrinsic+json": {
              "type": "string"
            },
            "text/plain": [
              "'There are three balls in this bag, and twelve in the other one.'"
            ]
          },
          "metadata": {},
          "execution_count": 17
        }
      ]
    },
    {
      "cell_type": "code",
      "metadata": {
        "id": "yeus87P3X54e"
      },
      "source": [
        "# Tokenization\n",
        "from nltk.tokenize.toktok import ToktokTokenizer\n",
        "tokenizer = ToktokTokenizer()"
      ],
      "execution_count": null,
      "outputs": []
    },
    {
      "cell_type": "code",
      "metadata": {
        "id": "9d9SDRyIYd5f"
      },
      "source": [
        "# Removal of Stop Words\n",
        "def remove_stopwords(text):\n",
        "  tokens = tokenizer.tokenize(text)\n",
        "  tokens = [token.strip() for token in tokens]\n",
        "  filtered_tokens = [token for token in tokens if token not in stopword_list]\n",
        "  filtered_text = '  '.join(filtered_tokens)\n",
        "  return filtered_text"
      ],
      "execution_count": null,
      "outputs": []
    },
    {
      "cell_type": "code",
      "metadata": {
        "colab": {
          "base_uri": "https://localhost:8080/",
          "height": 206
        },
        "id": "W-5x-Q5mYejA",
        "outputId": "7e9a03d7-935b-4499-89e5-0e16ba6a9506"
      },
      "source": [
        "df.Tweets = df.Tweets.apply(lambda x:x.lower())\n",
        "\n",
        "df.Tweets = df.Tweets.apply(html_tag)\n",
        "\n",
        "df.Tweets = df.Tweets.apply(con)\n",
        "\n",
        "df.Tweets = df.Tweets.apply(remove_sp)\n",
        "\n",
        "df.Tweets = df.Tweets.apply(remove_stopwords)\n",
        "\n",
        "df.Tweets = df.Tweets.apply(remove_num)\n",
        "\n",
        "df.Tweets = df.Tweets.apply(convert_number)\n",
        "\n",
        "\n",
        "df.tail()"
      ],
      "execution_count": null,
      "outputs": [
        {
          "output_type": "execute_result",
          "data": {
            "text/html": [
              "<div>\n",
              "<style scoped>\n",
              "    .dataframe tbody tr th:only-of-type {\n",
              "        vertical-align: middle;\n",
              "    }\n",
              "\n",
              "    .dataframe tbody tr th {\n",
              "        vertical-align: top;\n",
              "    }\n",
              "\n",
              "    .dataframe thead th {\n",
              "        text-align: right;\n",
              "    }\n",
              "</style>\n",
              "<table border=\"1\" class=\"dataframe\">\n",
              "  <thead>\n",
              "    <tr style=\"text-align: right;\">\n",
              "      <th></th>\n",
              "      <th>Sl no</th>\n",
              "      <th>Tweets</th>\n",
              "      <th>Feeling</th>\n",
              "    </tr>\n",
              "  </thead>\n",
              "  <tbody>\n",
              "    <tr>\n",
              "      <th>10012</th>\n",
              "      <td>10016</td>\n",
              "      <td>tweet eight matteo tweeted gamespot frannkches...</td>\n",
              "      <td>angry</td>\n",
              "    </tr>\n",
              "    <tr>\n",
              "      <th>10013</th>\n",
              "      <td>10017</td>\n",
              "      <td>tweet eight tweeted bratgiirl irritating wish ...</td>\n",
              "      <td>angry</td>\n",
              "    </tr>\n",
              "    <tr>\n",
              "      <th>10014</th>\n",
              "      <td>10018</td>\n",
              "      <td>tweet eight chowkidar ricky sharma tweeted mam...</td>\n",
              "      <td>angry</td>\n",
              "    </tr>\n",
              "    <tr>\n",
              "      <th>10015</th>\n",
              "      <td>10019</td>\n",
              "      <td>tweet eight katoe exe tweeted know hate indie ...</td>\n",
              "      <td>angry</td>\n",
              "    </tr>\n",
              "    <tr>\n",
              "      <th>10016</th>\n",
              "      <td>10019</td>\n",
              "      <td>tweet eight katoe exe tweeted know hate indie ...</td>\n",
              "      <td>angry</td>\n",
              "    </tr>\n",
              "  </tbody>\n",
              "</table>\n",
              "</div>"
            ],
            "text/plain": [
              "       Sl no                                             Tweets Feeling\n",
              "10012  10016  tweet eight matteo tweeted gamespot frannkches...   angry\n",
              "10013  10017  tweet eight tweeted bratgiirl irritating wish ...   angry\n",
              "10014  10018  tweet eight chowkidar ricky sharma tweeted mam...   angry\n",
              "10015  10019  tweet eight katoe exe tweeted know hate indie ...   angry\n",
              "10016  10019  tweet eight katoe exe tweeted know hate indie ...   angry"
            ]
          },
          "metadata": {},
          "execution_count": 20
        }
      ]
    },
    {
      "cell_type": "code",
      "metadata": {
        "id": "hS7bGmAwYe_B"
      },
      "source": [
        ""
      ],
      "execution_count": null,
      "outputs": []
    },
    {
      "cell_type": "code",
      "metadata": {
        "id": "gWSO-y-wYfi-"
      },
      "source": [
        ""
      ],
      "execution_count": null,
      "outputs": []
    }
  ]
}